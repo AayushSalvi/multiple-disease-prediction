{
 "cells": [
  {
   "cell_type": "code",
   "execution_count": 1,
   "id": "7f9a58ab",
   "metadata": {},
   "outputs": [],
   "source": [
    "import pandas as pd\n",
    "from tensorflow.keras.models import Sequential\n",
    "from tensorflow.keras.layers import Dense"
   ]
  },
  {
   "cell_type": "code",
   "execution_count": 2,
   "id": "f33dcfa9",
   "metadata": {},
   "outputs": [],
   "source": [
    "train = pd.read_csv('train_data')\n",
    "test = pd.read_csv('test_data')"
   ]
  },
  {
   "cell_type": "code",
   "execution_count": 3,
   "id": "d888b79d",
   "metadata": {},
   "outputs": [],
   "source": [
    "train_x = train.drop(['Disease'],axis=1)\n",
    "train_y = train['Disease']"
   ]
  },
  {
   "cell_type": "code",
   "execution_count": 4,
   "id": "d1b7cd82",
   "metadata": {},
   "outputs": [],
   "source": [
    "test_x = test.drop(['Disease'],axis=1)\n",
    "test_y = test['Disease']"
   ]
  },
  {
   "cell_type": "code",
   "execution_count": 14,
   "id": "ecb61697",
   "metadata": {},
   "outputs": [
    {
     "data": {
      "text/plain": [
       "(2351,)"
      ]
     },
     "execution_count": 14,
     "metadata": {},
     "output_type": "execute_result"
    }
   ],
   "source": [
    "train_x.shape \n",
    "train_y.shape"
   ]
  },
  {
   "cell_type": "code",
   "execution_count": 6,
   "id": "931b8913",
   "metadata": {},
   "outputs": [
    {
     "data": {
      "text/plain": [
       "array([2, 1, 3, 0, 4], dtype=int64)"
      ]
     },
     "execution_count": 6,
     "metadata": {},
     "output_type": "execute_result"
    }
   ],
   "source": [
    "train_y.unique()"
   ]
  },
  {
   "cell_type": "code",
   "execution_count": 33,
   "id": "322677e8",
   "metadata": {},
   "outputs": [],
   "source": [
    "model = Sequential()\n",
    "\n",
    "model.add(Dense(50, input_dim=25, activation='relu')) # as our number of features is 9\n",
    "model.add(Dense(100, activation='relu'))\n",
    "model.add(Dense(50, activation='relu'))\n",
    "\n",
    "model.add(Dense(5, activation='softmax'))\n",
    "\n",
    "model.compile(\n",
    "    loss='sparse_categorical_crossentropy',\n",
    "    optimizer='adam',\n",
    "    metrics=['accuracy']\n",
    ")"
   ]
  },
  {
   "cell_type": "code",
   "execution_count": 34,
   "id": "584fc6b2",
   "metadata": {},
   "outputs": [
    {
     "name": "stdout",
     "output_type": "stream",
     "text": [
      "Model: \"sequential_7\"\n",
      "_________________________________________________________________\n",
      " Layer (type)                Output Shape              Param #   \n",
      "=================================================================\n",
      " dense_28 (Dense)            (None, 50)                1300      \n",
      "                                                                 \n",
      " dense_29 (Dense)            (None, 100)               5100      \n",
      "                                                                 \n",
      " dense_30 (Dense)            (None, 50)                5050      \n",
      "                                                                 \n",
      " dense_31 (Dense)            (None, 5)                 255       \n",
      "                                                                 \n",
      "=================================================================\n",
      "Total params: 11,705\n",
      "Trainable params: 11,705\n",
      "Non-trainable params: 0\n",
      "_________________________________________________________________\n"
     ]
    }
   ],
   "source": [
    "model.summary()"
   ]
  },
  {
   "cell_type": "code",
   "execution_count": 35,
   "id": "cc6e78ed",
   "metadata": {
    "scrolled": true
   },
   "outputs": [
    {
     "name": "stdout",
     "output_type": "stream",
     "text": [
      "Epoch 1/70\n",
      "74/74 [==============================] - 0s 2ms/step - loss: 13.5911 - accuracy: 0.2386\n",
      "Epoch 2/70\n",
      "74/74 [==============================] - 0s 1ms/step - loss: 3.1966 - accuracy: 0.2573\n",
      "Epoch 3/70\n",
      "74/74 [==============================] - 0s 1ms/step - loss: 3.1808 - accuracy: 0.2599\n",
      "Epoch 4/70\n",
      "74/74 [==============================] - 0s 2ms/step - loss: 2.6635 - accuracy: 0.2582\n",
      "Epoch 5/70\n",
      "74/74 [==============================] - 0s 1ms/step - loss: 2.4723 - accuracy: 0.2535\n",
      "Epoch 6/70\n",
      "74/74 [==============================] - 0s 1ms/step - loss: 3.1316 - accuracy: 0.2442\n",
      "Epoch 7/70\n",
      "74/74 [==============================] - 0s 2ms/step - loss: 2.7705 - accuracy: 0.2501\n",
      "Epoch 8/70\n",
      "74/74 [==============================] - 0s 2ms/step - loss: 3.3342 - accuracy: 0.2616\n",
      "Epoch 9/70\n",
      "74/74 [==============================] - 0s 2ms/step - loss: 2.7505 - accuracy: 0.2735\n",
      "Epoch 10/70\n",
      "74/74 [==============================] - 0s 2ms/step - loss: 2.3296 - accuracy: 0.2761\n",
      "Epoch 11/70\n",
      "74/74 [==============================] - 0s 2ms/step - loss: 2.1898 - accuracy: 0.2607\n",
      "Epoch 12/70\n",
      "74/74 [==============================] - 0s 2ms/step - loss: 2.5655 - accuracy: 0.2705\n",
      "Epoch 13/70\n",
      "74/74 [==============================] - 0s 2ms/step - loss: 2.6301 - accuracy: 0.2850\n",
      "Epoch 14/70\n",
      "74/74 [==============================] - 0s 2ms/step - loss: 2.2455 - accuracy: 0.2922\n",
      "Epoch 15/70\n",
      "74/74 [==============================] - 0s 2ms/step - loss: 2.2432 - accuracy: 0.3084\n",
      "Epoch 16/70\n",
      "74/74 [==============================] - 0s 2ms/step - loss: 2.2546 - accuracy: 0.3122\n",
      "Epoch 17/70\n",
      "74/74 [==============================] - 0s 2ms/step - loss: 1.9863 - accuracy: 0.3080\n",
      "Epoch 18/70\n",
      "74/74 [==============================] - 0s 2ms/step - loss: 2.2685 - accuracy: 0.3343\n",
      "Epoch 19/70\n",
      "74/74 [==============================] - 0s 2ms/step - loss: 1.6778 - accuracy: 0.3650\n",
      "Epoch 20/70\n",
      "74/74 [==============================] - 0s 2ms/step - loss: 1.9040 - accuracy: 0.3313\n",
      "Epoch 21/70\n",
      "74/74 [==============================] - 0s 2ms/step - loss: 2.1529 - accuracy: 0.3092\n",
      "Epoch 22/70\n",
      "74/74 [==============================] - 0s 2ms/step - loss: 1.8110 - accuracy: 0.3637\n",
      "Epoch 23/70\n",
      "74/74 [==============================] - 0s 2ms/step - loss: 2.1210 - accuracy: 0.3450\n",
      "Epoch 24/70\n",
      "74/74 [==============================] - 0s 2ms/step - loss: 1.9119 - accuracy: 0.3552\n",
      "Epoch 25/70\n",
      "74/74 [==============================] - 0s 2ms/step - loss: 1.9001 - accuracy: 0.3475\n",
      "Epoch 26/70\n",
      "74/74 [==============================] - 0s 2ms/step - loss: 1.6513 - accuracy: 0.4020\n",
      "Epoch 27/70\n",
      "74/74 [==============================] - 0s 2ms/step - loss: 1.6220 - accuracy: 0.3824\n",
      "Epoch 28/70\n",
      "74/74 [==============================] - 0s 2ms/step - loss: 1.6941 - accuracy: 0.3917\n",
      "Epoch 29/70\n",
      "74/74 [==============================] - 0s 1ms/step - loss: 2.0330 - accuracy: 0.3645\n",
      "Epoch 30/70\n",
      "74/74 [==============================] - 0s 2ms/step - loss: 1.6526 - accuracy: 0.3811\n",
      "Epoch 31/70\n",
      "74/74 [==============================] - 0s 1ms/step - loss: 1.6905 - accuracy: 0.3922\n",
      "Epoch 32/70\n",
      "74/74 [==============================] - 0s 1ms/step - loss: 1.9046 - accuracy: 0.3777\n",
      "Epoch 33/70\n",
      "74/74 [==============================] - 0s 2ms/step - loss: 1.6201 - accuracy: 0.4232\n",
      "Epoch 34/70\n",
      "74/74 [==============================] - 0s 2ms/step - loss: 1.5843 - accuracy: 0.4271\n",
      "Epoch 35/70\n",
      "74/74 [==============================] - 0s 2ms/step - loss: 1.4815 - accuracy: 0.4394\n",
      "Epoch 36/70\n",
      "74/74 [==============================] - 0s 2ms/step - loss: 1.5050 - accuracy: 0.4653\n",
      "Epoch 37/70\n",
      "74/74 [==============================] - 0s 2ms/step - loss: 1.3942 - accuracy: 0.4845\n",
      "Epoch 38/70\n",
      "74/74 [==============================] - 0s 2ms/step - loss: 1.3559 - accuracy: 0.4632\n",
      "Epoch 39/70\n",
      "74/74 [==============================] - 0s 2ms/step - loss: 1.4183 - accuracy: 0.4670\n",
      "Epoch 40/70\n",
      "74/74 [==============================] - 0s 2ms/step - loss: 1.6100 - accuracy: 0.4449\n",
      "Epoch 41/70\n",
      "74/74 [==============================] - 0s 1ms/step - loss: 1.4936 - accuracy: 0.4628\n",
      "Epoch 42/70\n",
      "74/74 [==============================] - 0s 2ms/step - loss: 1.3653 - accuracy: 0.4845\n",
      "Epoch 43/70\n",
      "74/74 [==============================] - 0s 2ms/step - loss: 1.3746 - accuracy: 0.4704\n",
      "Epoch 44/70\n",
      "74/74 [==============================] - 0s 2ms/step - loss: 1.4417 - accuracy: 0.4828\n",
      "Epoch 45/70\n",
      "74/74 [==============================] - 0s 2ms/step - loss: 1.6570 - accuracy: 0.4517\n",
      "Epoch 46/70\n",
      "74/74 [==============================] - 0s 2ms/step - loss: 1.3956 - accuracy: 0.5049\n",
      "Epoch 47/70\n",
      "74/74 [==============================] - 0s 2ms/step - loss: 1.4698 - accuracy: 0.4717\n",
      "Epoch 48/70\n",
      "74/74 [==============================] - 0s 2ms/step - loss: 1.4310 - accuracy: 0.4951\n",
      "Epoch 49/70\n",
      "74/74 [==============================] - 0s 2ms/step - loss: 1.1812 - accuracy: 0.5427\n",
      "Epoch 50/70\n",
      "74/74 [==============================] - 0s 1ms/step - loss: 1.2779 - accuracy: 0.5262\n",
      "Epoch 51/70\n",
      "74/74 [==============================] - 0s 2ms/step - loss: 1.2497 - accuracy: 0.5479\n",
      "Epoch 52/70\n",
      "74/74 [==============================] - 0s 2ms/step - loss: 1.2331 - accuracy: 0.5415\n",
      "Epoch 53/70\n",
      "74/74 [==============================] - 0s 2ms/step - loss: 1.1956 - accuracy: 0.5559\n",
      "Epoch 54/70\n",
      "74/74 [==============================] - 0s 1ms/step - loss: 1.2600 - accuracy: 0.5661\n",
      "Epoch 55/70\n",
      "74/74 [==============================] - 0s 2ms/step - loss: 1.2158 - accuracy: 0.5440\n",
      "Epoch 56/70\n",
      "74/74 [==============================] - 0s 2ms/step - loss: 1.1183 - accuracy: 0.5798\n",
      "Epoch 57/70\n",
      "74/74 [==============================] - 0s 1ms/step - loss: 1.0351 - accuracy: 0.6261\n",
      "Epoch 58/70\n",
      "74/74 [==============================] - 0s 2ms/step - loss: 1.2601 - accuracy: 0.5547\n",
      "Epoch 59/70\n",
      "74/74 [==============================] - 0s 2ms/step - loss: 1.2170 - accuracy: 0.5615\n",
      "Epoch 60/70\n",
      "74/74 [==============================] - 0s 2ms/step - loss: 1.1763 - accuracy: 0.5678\n",
      "Epoch 61/70\n",
      "74/74 [==============================] - 0s 2ms/step - loss: 1.2055 - accuracy: 0.5576\n",
      "Epoch 62/70\n",
      "74/74 [==============================] - 0s 2ms/step - loss: 1.2711 - accuracy: 0.5402\n",
      "Epoch 63/70\n",
      "74/74 [==============================] - 0s 2ms/step - loss: 0.9764 - accuracy: 0.6295\n",
      "Epoch 64/70\n",
      "74/74 [==============================] - 0s 2ms/step - loss: 1.0283 - accuracy: 0.6108\n",
      "Epoch 65/70\n",
      "74/74 [==============================] - 0s 2ms/step - loss: 0.9997 - accuracy: 0.6346\n",
      "Epoch 66/70\n",
      "74/74 [==============================] - 0s 2ms/step - loss: 0.9504 - accuracy: 0.6491\n",
      "Epoch 67/70\n",
      "74/74 [==============================] - 0s 2ms/step - loss: 0.9614 - accuracy: 0.6376\n",
      "Epoch 68/70\n",
      "74/74 [==============================] - 0s 2ms/step - loss: 0.8854 - accuracy: 0.6704\n",
      "Epoch 69/70\n",
      "74/74 [==============================] - 0s 2ms/step - loss: 0.9610 - accuracy: 0.6380\n",
      "Epoch 70/70\n",
      "74/74 [==============================] - 0s 2ms/step - loss: 0.8666 - accuracy: 0.6759\n"
     ]
    },
    {
     "data": {
      "text/plain": [
       "<keras.callbacks.History at 0x1a7bfee76d0>"
      ]
     },
     "execution_count": 35,
     "metadata": {},
     "output_type": "execute_result"
    }
   ],
   "source": [
    "model.fit(train_x, train_y, epochs=70, batch_size=32)"
   ]
  },
  {
   "cell_type": "code",
   "execution_count": 36,
   "id": "e6d4a46c",
   "metadata": {},
   "outputs": [
    {
     "name": "stdout",
     "output_type": "stream",
     "text": [
      "14/14 [==============================] - 0s 2ms/step - loss: 2.1027 - accuracy: 0.4139\n",
      "Test Loss: 2.10271954536438\n",
      "Test Accuracy: 0.413870245218277\n"
     ]
    }
   ],
   "source": [
    "loss, accuracy = model.evaluate(test_x, test_y)\n",
    "print('Test Loss:', loss)\n",
    "print('Test Accuracy:', accuracy)"
   ]
  },
  {
   "cell_type": "code",
   "execution_count": null,
   "id": "972cc5a8",
   "metadata": {},
   "outputs": [],
   "source": []
  },
  {
   "cell_type": "code",
   "execution_count": null,
   "id": "d22e42f3",
   "metadata": {},
   "outputs": [],
   "source": []
  }
 ],
 "metadata": {
  "kernelspec": {
   "display_name": "Python 3 (ipykernel)",
   "language": "python",
   "name": "python3"
  },
  "language_info": {
   "codemirror_mode": {
    "name": "ipython",
    "version": 3
   },
   "file_extension": ".py",
   "mimetype": "text/x-python",
   "name": "python",
   "nbconvert_exporter": "python",
   "pygments_lexer": "ipython3",
   "version": "3.10.9"
  },
  "toc": {
   "base_numbering": 1,
   "nav_menu": {},
   "number_sections": true,
   "sideBar": true,
   "skip_h1_title": false,
   "title_cell": "Table of Contents",
   "title_sidebar": "Contents",
   "toc_cell": false,
   "toc_position": {},
   "toc_section_display": true,
   "toc_window_display": false
  },
  "varInspector": {
   "cols": {
    "lenName": 16,
    "lenType": 16,
    "lenVar": 40
   },
   "kernels_config": {
    "python": {
     "delete_cmd_postfix": "",
     "delete_cmd_prefix": "del ",
     "library": "var_list.py",
     "varRefreshCmd": "print(var_dic_list())"
    },
    "r": {
     "delete_cmd_postfix": ") ",
     "delete_cmd_prefix": "rm(",
     "library": "var_list.r",
     "varRefreshCmd": "cat(var_dic_list()) "
    }
   },
   "types_to_exclude": [
    "module",
    "function",
    "builtin_function_or_method",
    "instance",
    "_Feature"
   ],
   "window_display": false
  }
 },
 "nbformat": 4,
 "nbformat_minor": 5
}
